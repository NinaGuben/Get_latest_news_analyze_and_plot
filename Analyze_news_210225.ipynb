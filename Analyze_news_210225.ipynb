{
 "cells": [
  {
   "cell_type": "markdown",
   "metadata": {},
   "source": [
    "## Analysis of News Text according to an input keyword\n",
    "This script needs several inputs to extract data from the website https://newsapi.org/v2/everything.\n",
    "It asks for a keyword, the number of articles you want to analyze, an API key (which is available at the website), and a date range.\n",
    "To demonstrate the usage of the program the input questions are inacticated and instead the following arguments are used:\n",
    "\n",
    "In this example we will use the keyword 'climate', 100 articles, the API key \"e9461662ee4b4adda2d859241c96894a\" and articles from 2025-01-31 to 2025-02-21.\n",
    "\n",
    "Anyway, by deleting the # before the input questions can be reactivated using any parameters you want. \n",
    "\n",
    "Also, we need following libraries: requests, pandas, matplotlib"
   ]
  },
  {
   "cell_type": "markdown",
   "metadata": {},
   "source": [
    "We start by importing necessary libraries and change the input into predefined definitions."
   ]
  },
  {
   "cell_type": "code",
   "execution_count": 52,
   "metadata": {},
   "outputs": [],
   "source": [
    "import requests\n",
    "import pandas as pd\n",
    "import matplotlib.pyplot as plt\n",
    "import string\n",
    "\n",
    "\n",
    "main_url = \"https://newsapi.org/v2/everything\"\n",
    "#query = input(\"Please enter your keyword: \")\n",
    "query = 'climate'\n",
    "#pages = int(input(\"Now enter the number of articles as integer (e.g. 10): \"))\n",
    "pages = 10\n",
    "#API_key = input(\"Enter your valid API key: \")\n",
    "API_key = 'e9461662ee4b4adda2d859241c96894a'\n",
    "#from_date = input(\"Specify the date range of articles in this format: YYYY-MM-DD \\nStarting date: \")\n",
    "from_date = '2025-01-31'\n",
    "#to_date = input(\"Final date: \")\n",
    "to_date = '2025-02-21'"
   ]
  },
  {
   "cell_type": "markdown",
   "metadata": {},
   "source": [
    "The first function fetches the data from the news website and uses several arguments: api_key, query, from_date, to_date, language=\"en\", page_size = pages\n",
    "using the preset parameters and the website url we can get the data with requests and change it into a format that is easier to work with (.jsnon()). To find out if our API request worked, we check its status code which should be 200. If the status code is a different value we switch into the else condition and output the error message so the user can adapt her/his request."
   ]
  },
  {
   "cell_type": "code",
   "execution_count": 45,
   "metadata": {},
   "outputs": [],
   "source": [
    "def get_articles(api_key, query, from_date, to_date, language=\"en\", page_size = pages):\n",
    "    params = {\n",
    "    'apiKey': API_key,\n",
    "    'q': query,\n",
    "    'pageSize': pages,\n",
    "    'sortBy': 'publishedAt',\n",
    "    'from': from_date,\n",
    "    'to': to_date,\n",
    "    'language': 'en'\n",
    "    }\n",
    "    response = requests.get(main_url, params=params)\n",
    "    if response.status_code == 200:\n",
    "       print(\"API is accessible\")\n",
    "       data = response.json()\n",
    "       return data\n",
    "    else:\n",
    "        print(f\"API is not accessible: {response.status_code} - {response.text}\")"
   ]
  },
  {
   "cell_type": "markdown",
   "metadata": {},
   "source": [
    "we test the function with our predescribed values"
   ]
  },
  {
   "cell_type": "code",
   "execution_count": 64,
   "metadata": {},
   "outputs": [
    {
     "name": "stdout",
     "output_type": "stream",
     "text": [
      "API is accessible\n"
     ]
    }
   ],
   "source": [
    "data =get_articles(API_key, query, from_date, to_date, pages);\n",
    "#display(data, pd.set_option('display.max_colwidth', 10))"
   ]
  },
  {
   "cell_type": "markdown",
   "metadata": {},
   "source": [
    "Now we use a function that extracts the articles from the data and converts it into a pandas DataFrame which is easier to analyze. As a next step we sort the data and include only the titles, description and publishing date of the articles. The function uses the previously generated data in json format and returns a sorted and filtered pandas DF."
   ]
  },
  {
   "cell_type": "code",
   "execution_count": 61,
   "metadata": {},
   "outputs": [
    {
     "name": "stdout",
     "output_type": "stream",
     "text": [
      "                                                title  \\\n",
      "0        13k-Mile 2007 Mercedes-Benz CLK550 Cabriolet   \n",
      "1               2,400-Mile 2005 Ford GT at No Reserve   \n",
      "..                                                ...   \n",
      "6   ​Party featuring Danny Rampling and far-right ...   \n",
      "7   Trump and Musk Are Returning Us to the Age of ...   \n",
      "\n",
      "                                          description           publishedAt  \n",
      "0   This 2007 Mercedes-Benz CLK550 cabriolet has 1...  2025-02-20T13:35:02Z  \n",
      "1   This 2005 Ford GT was first delivered to AC Co...  2025-02-20T13:30:13Z  \n",
      "..                                                ...                   ...  \n",
      "6   OMEARA called off the controversial event, org...  2025-02-20T13:11:00Z  \n",
      "7   U.S. President Donald Trump, Elon Musk, and th...  2025-02-20T13:03:04Z  \n",
      "\n",
      "[8 rows x 3 columns] None\n"
     ]
    }
   ],
   "source": [
    "def extract_data(data):\n",
    "    articles = data.get(\"articles\",[])\n",
    "    df_data = pd.DataFrame(articles)\n",
    "    df_data_sorted = df_data[[\"title\", \"description\",\"publishedAt\"]]\n",
    "    return(df_data_sorted)\n",
    "\n",
    "df_data_sorted=extract_data(data)\n",
    "print(df_data_sorted, pd.set_option('display.max_rows', 5))"
   ]
  },
  {
   "cell_type": "markdown",
   "metadata": {},
   "source": [
    "The following function enables the user to filter the news description texts according to a user's defined word length.\n",
    "Again the input command is deactived for demonstration purposes. Here, we set the word lenght as minimum five characters. The function returns a list of words longer than five characters."
   ]
  },
  {
   "cell_type": "code",
   "execution_count": 48,
   "metadata": {},
   "outputs": [
    {
     "name": "stdout",
     "output_type": "stream",
     "text": [
      "['president', 'donald', 'returning', 'gilded', 'robber', 'barons', 'replete', 'railroad', 'monopolies', 'protections', 'bringing', 'before', 'progressive', 'movement', 'instituted', 'mainstay', 'ultimate', 'fighting', 'championship', 'heavyweight', 'division', 'sixplus', 'white’s', 'contender', 'series', 'graduate', 'saturday', 'julius', 'walker', 'featured', 'seattle', 'attraction', 'months', 'finding', 'myself', 'stranded', 'travel', 'restrictions', 'berlin', 'reread', 'sebald’s', 'saturn', 'picked', 'bookshelf', 'slipped', 'suitcase', 'before', 'belongings', 'storag…', 'environmental', 'assessments', 'different', 'plantbased', 'vastly', 'sustainable', 'animalbased', '“there', 'increasing', 'consensus', 'transitioning', 'towards', 'reduced', 'several', 'funneling', 'million', 'colorado', 'pollution', 'reduction', 'reimbursement', 'programs', 'encourage', 'homeowners', 'electrify', 'houses', 'panels', 'terrible', 'january', 'another', 'reminder', 'planning', 'angeles', 'failed', 'protect', 'natural', 'disasters', 'repeatedly', 'threaten', 'region', 'philanthropy', 'resilient', 'equitable', 'system', 'through', 'agroecology', 'archinect’s', 'roundup', 'summer', 'architecture', 'programs', 'continues', 'focusing', 'opportunities', 'school', 'graduates', 'college', 'students', 'adults', 'experience', 'levels', 'whether', 'exploring', 'architecture', 'seeking', 'edmonton', 'developing', 'wildfire', 'strategy', 'mitigate', 'within', 'municipality', 'neighbouring', 'regions', 'emergency', 'advisory', 'committee', 'wednesday', 'social', 'andrew', 'o’hagan’s', 'designed', 'challenge', 'liberal', 'values', 'ultimate', 'fighting', 'championship', 'saturday', 'return', 'emerald', 'decade', 'riften', 'economic', 'uncertainty', 'compel', 'canada’s', 'biggest', 'report', 'higher', 'analysts', 'previously', 'expected', 'rubiales', 'sparked', 'backlash', 'coverage', 'kissing', 'spanish', 'football', 'player', 'hermoso', 'following', 'victory', 'looking', 'vibrant', 'internet', 'experts', 'grasses', 'within', 'you’ll', 'garden', 'serene', 'outdoor', 'retreat', 'underneath', 'former', 'twodivision', 'titleholder', 'cejudo', 'yadong', 'bantamweight', 'saturday', 'climate', 'pledge', 'annual', 'features', 'leaders', 'working', 'create', 'highvisibility', 'clothing', 'pedestrians', 'cyclists', 'invisible', 'modern', 'braking', 'technology', 'suggested', 'making', 'international', 'thinnest', 'bookstyle', 'foldable', 'national', 'science', 'foundation', 'national', 'institutes', 'health', 'dogetreatment', 'scientists', 'filled', 'battles', 'ideologically', 'captured', 'scientific', 'institutions', 'appeared', 'le·gal', 'in·sur·rec·tion', 'ridwell', 'pickup', 'service', 'aiming', 'recycle', 'wouldnt', 'otherwise', 'rapidly', 'coming', 'companies', 'viable', 'businesses', 'fulfilling', 'promises', 'divert', 'landfills', 'president', 'donald', 'office', 'comparisons', 'notable', 'analysts', 'brutal', 'regime', 'hundreds', 'people’s', 'remains', 'forensic', 'science', 'them—and', 'regain', 'public', 'european', 'commission', 'approved', 'funding', 'european', 'infineon', 'technologies', 'dresden', 'official', 'funding', 'approval', 'federal', 'ministry', 'economic', 'affairs', 'climate', 'action', 'responsib…', 'berlin', 'germany', 'astronomers', 'mapped', 'threedimensional', 'structure', 'exoplanets', 'atmosphere', 'uncovering', 'extreme', 'weather', 'conditions', 'driven', 'powerful', 'streams', 'utilizing', 'capability', 'europea…', 'france', 'recent', 'underscores', 'accelerating', 'glacial', 'worldwide', 'depleting', 'regional', 'freshwater', 'reserves', 'significantly', 'contributing', 'rising', 'global', 'levels', 'conducted', 'glacier', 'balance', 'inter…', 'berlin', 'germany', 'international', 'astronomers', 'conducted', 'unprecedentedly', 'precise', 'observation', 'exoplanet', 'wasp121b', 'utilizing', 'combined', 'telescopes', 'telescope', 'sydney', 'australia', 'fengfei', 'frontier', 'science', 'center', 'multispheres', 'system', 'physical', 'oceanography', 'laboratory', 'university', 'examined', 'longte…', 'astronomers', 'uncovered', 'extreme', 'weather', 'patterns', 'wasp121', 'lightyears', 'planet', 'experiences', 'metals', 'vaporizing', 'scorching', 'dayside', 'condensing', 'liquid', 'supersonic', 'elements', 'transition', 'economy', 'deepening', 'inequality', 'replicating', 'injustices', 'fossil', 'campaigners', 'colossal', 'biosciences', 'cofounder', 'billion', 'following', 'companys', 'recent', 'fundraise', 'eyepopping', 'billion', 'valuation', 'reviving', 'extinct', 'animals', 'saving', 'endangered', 'wired’s', 'advice', 'columnist', 'considers', 'whether', 'ethical', 'others', 'developers', 'locked', 'bangladesh', 'decades', 'pollution', 'plunged', 'economy', 'relying', 'expensive', 'imports', 'there’s', 'opportunity', 'change', 'direction', 'mansour', 'survived', 'farhud', 'massacre', 'pogrom', 'murdered', 'jewishowned', 'businesses', 'looted', 'undetermined', 'number', 'jewish', 'greater', 'awarenes…', 'imagine', 'middle', 'workday', 'you’re', 'drowning', 'articles', 'videos', 'reports', 'demanding', 'attention', 'you’ve', 'bookmarked', 'scribbled', 'promised', 'yourself', 'you’ll', 'later”', 'honest—how', 'scientists', 'across', 'distressed', 'following', 'policy', 'changes', 'funding', 'elimination', 'firings', 'happened', 'president', 'office', 'scientists', 'solidarity', 'negative', 'impact', 'these…', 'watters', 'administration', 'callous”', 'implementing', 'laying', 'federal', 'employees', 'military', 'veteran', 'friend', '“doge’d”', 'musk’s', 'pentagon', 'report', 'wednesday', 'revealed', 'crompton', 'greaves', 'consumer', 'electricals', 'billion', 'fiscal', 'driven', 'crompton', 'strategy', 'focusing', 'innovation', 'consumercentric', 'products', 'company', 'expanding', 'segments', 'introducing', 'energyefficient', 'techn…', 'boxabl’s', '120squarefoot', 'foldable', 'minutes', 'offgrid', 'features', '“cyberguy', 'knutsson', 'designed', 'maximize', 'functionality', 'another', 'update', 'available', 'bringing', 'access', 'closer', 'finish', 'article', 'technology', 'review’s', 'weekly', 'climate', 'newsletter', 'receive', 'wednesday', 'electricity', 'demand', 'continue', 'annually', 'through', 'according', 'environmental', 'defense', 'announced', 'christopher', 'costello', 'economist', 'originally', 'published', 'guardian', 'reproduced', 'climate', 'collaboration', 'environmentalists', 'outraged', 'wednesday', 'administration', 'fasttrack', 'fossil', 'projects', 'through', 'permitting', 'province', 'british', 'columbia', 'cities', 'powerfully', 'shaped', 'racial', 'capitalism', 'economic', 'exclusion', 'communities', 'fought', 'reclaim', 'futures', 'through', 'economic', 'solidarity', 'cooperation', 'converted', 'former', 'clarion', 'denvers', 'globeville', 'neighborhood', 'renewal', 'village', 'opened', 'august', 'supportive', 'transitional', 'housing', 'dennis', 'schroeder', 'opening', 'renewal', 'village', '215unit', 'supportive', 'transit…', 'calgary', 'alberta', 'newswire', 'cenovus', 'energy', 'announced', 'fourthquarter', 'fullyear', 'financial', 'operating', 'results', 'quarter', 'company', 'generated', 'billion', 'operatin…', 'building', 'movement', 'worldwide', 'greater', 'emphasis', 'sustainable', 'construction', 'practices', 'driving', 'demand', 'insulating', 'solutions', 'building', 'movement', 'worldwide', 'greater', 'emphasis', 'sustainable…', 'antioch', 'newswire', 'corporation', 'nasdaq', 'reported', 'fourth', 'quarter', 'financial', 'results', 'focused', 'strengths', 'manage', 'difficult', 'market', 'conditions', 'position', 'bitcoin', 'lithium', 'emerging', 'interesting', 'crypto', 'projects', 'leveraging', 'astounding', 'traction', 'presale', 'parties', 'selling', 'record', 'second', 'resale', 'closed', 'raising', 'unbelie…', 'doesnt', 'doesnt', 'meeting', 'ukraine', 'countries', 'global', 'confront', 'reform', 'climate', 'change', 'economic', 'fairness', 'boycotting', 'africas', 'antiamerican', 'policies', 'anatol', 'lieven', 'challenges', 'administration', 'democrats', 'ukraine', 'process', 'appeared', 'nation', 'doubled', 'capacity', 'subsidies', 'possible', 'support', 'available', 'happen']\n"
     ]
    }
   ],
   "source": [
    "def filter_word_length(df_data_sorted):\n",
    "    #word_length = int(input(\"Enter the minimum word length as integer: \"))\n",
    "    word_length = 5\n",
    "    full_text = \" \".join(df_data_sorted[\"description\"].dropna())\n",
    "    clean_text_lower = full_text.lower()\n",
    "    clean_text_no_punct = clean_text_lower.translate(str.maketrans('', '', string.punctuation))\n",
    "    clean_text_split = clean_text_no_punct.split()\n",
    "    filtered_text_word_length = []\n",
    "    for word in clean_text_split:\n",
    "        if len(word) > word_length:\n",
    "            filtered_text_word_length.append(word)\n",
    "    return filtered_text_word_length\n",
    "\n",
    "filter_word_length = filter_word_length(df_data_sorted)\n",
    "print(filter_word_length)\n"
   ]
  },
  {
   "cell_type": "markdown",
   "metadata": {},
   "source": [
    "Now we are interested in finding the most common words. For that matter we first use a function that takes the filtered list and counts each word by adding it into a dictionary. The key is the word whereas its value is the value how often this word arises in all the description texts. Finally, the dictionary is sorted starting with the most abundant words."
   ]
  },
  {
   "cell_type": "code",
   "execution_count": 49,
   "metadata": {},
   "outputs": [
    {
     "name": "stdout",
     "output_type": "stream",
     "text": [
      "{'economic': 5, 'climate': 5, 'through': 4, 'wednesday': 4, 'billion': 4, 'president': 3, 'movement': 3, 'saturday': 3, 'berlin': 3, 'following': 3, 'science': 3, 'scientists': 3, 'funding': 3, 'astronomers': 3, 'worldwide': 3, 'greater': 3, 'administration': 3, 'donald': 2, 'bringing': 2, 'before': 2, 'ultimate': 2, 'fighting': 2, 'championship': 2, 'environmental': 2, 'sustainable': 2, 'pollution': 2, 'programs': 2, 'another': 2, 'system': 2, 'architecture': 2, 'focusing': 2, 'levels': 2, 'whether': 2, 'strategy': 2, 'within': 2, 'designed': 2, 'report': 2, 'analysts': 2, 'you’ll': 2, 'former': 2, 'features': 2, 'technology': 2, 'international': 2, 'foldable': 2, 'national': 2, 'appeared': 2, 'businesses': 2, 'office': 2, 'european': 2, 'federal': 2, 'germany': 2, 'extreme': 2, 'weather': 2, 'conditions': 2, 'driven': 2, 'utilizing': 2, 'recent': 2, 'global': 2, 'conducted': 2, 'economy': 2, 'fossil': 2, 'change': 2, 'solidarity': 2, 'crompton': 2, 'company': 2, 'available': 2, 'demand': 2, 'announced': 2, 'projects': 2, 'renewal': 2, 'village': 2, 'supportive': 2, 'newswire': 2, 'financial': 2, 'results': 2, 'quarter': 2, 'building': 2, 'emphasis': 2, 'doesnt': 2, 'ukraine': 2, 'returning': 1, 'gilded': 1, 'robber': 1, 'barons': 1, 'replete': 1, 'railroad': 1, 'monopolies': 1, 'protections': 1, 'progressive': 1, 'instituted': 1, 'mainstay': 1, 'heavyweight': 1, 'division': 1, 'sixplus': 1, 'white’s': 1, 'contender': 1, 'series': 1, 'graduate': 1, 'julius': 1, 'walker': 1, 'featured': 1, 'seattle': 1, 'attraction': 1, 'months': 1, 'finding': 1, 'myself': 1, 'stranded': 1, 'travel': 1, 'restrictions': 1, 'reread': 1, 'sebald’s': 1, 'saturn': 1, 'picked': 1, 'bookshelf': 1, 'slipped': 1, 'suitcase': 1, 'belongings': 1, 'storag…': 1, 'assessments': 1, 'different': 1, 'plantbased': 1, 'vastly': 1, 'animalbased': 1, '“there': 1, 'increasing': 1, 'consensus': 1, 'transitioning': 1, 'towards': 1, 'reduced': 1, 'several': 1, 'funneling': 1, 'million': 1, 'colorado': 1, 'reduction': 1, 'reimbursement': 1, 'encourage': 1, 'homeowners': 1, 'electrify': 1, 'houses': 1, 'panels': 1, 'terrible': 1, 'january': 1, 'reminder': 1, 'planning': 1, 'angeles': 1, 'failed': 1, 'protect': 1, 'natural': 1, 'disasters': 1, 'repeatedly': 1, 'threaten': 1, 'region': 1, 'philanthropy': 1, 'resilient': 1, 'equitable': 1, 'agroecology': 1, 'archinect’s': 1, 'roundup': 1, 'summer': 1, 'continues': 1, 'opportunities': 1, 'school': 1, 'graduates': 1, 'college': 1, 'students': 1, 'adults': 1, 'experience': 1, 'exploring': 1, 'seeking': 1, 'edmonton': 1, 'developing': 1, 'wildfire': 1, 'mitigate': 1, 'municipality': 1, 'neighbouring': 1, 'regions': 1, 'emergency': 1, 'advisory': 1, 'committee': 1, 'social': 1, 'andrew': 1, 'o’hagan’s': 1, 'challenge': 1, 'liberal': 1, 'values': 1, 'return': 1, 'emerald': 1, 'decade': 1, 'riften': 1, 'uncertainty': 1, 'compel': 1, 'canada’s': 1, 'biggest': 1, 'higher': 1, 'previously': 1, 'expected': 1, 'rubiales': 1, 'sparked': 1, 'backlash': 1, 'coverage': 1, 'kissing': 1, 'spanish': 1, 'football': 1, 'player': 1, 'hermoso': 1, 'victory': 1, 'looking': 1, 'vibrant': 1, 'internet': 1, 'experts': 1, 'grasses': 1, 'garden': 1, 'serene': 1, 'outdoor': 1, 'retreat': 1, 'underneath': 1, 'twodivision': 1, 'titleholder': 1, 'cejudo': 1, 'yadong': 1, 'bantamweight': 1, 'pledge': 1, 'annual': 1, 'leaders': 1, 'working': 1, 'create': 1, 'highvisibility': 1, 'clothing': 1, 'pedestrians': 1, 'cyclists': 1, 'invisible': 1, 'modern': 1, 'braking': 1, 'suggested': 1, 'making': 1, 'thinnest': 1, 'bookstyle': 1, 'foundation': 1, 'institutes': 1, 'health': 1, 'dogetreatment': 1, 'filled': 1, 'battles': 1, 'ideologically': 1, 'captured': 1, 'scientific': 1, 'institutions': 1, 'le·gal': 1, 'in·sur·rec·tion': 1, 'ridwell': 1, 'pickup': 1, 'service': 1, 'aiming': 1, 'recycle': 1, 'wouldnt': 1, 'otherwise': 1, 'rapidly': 1, 'coming': 1, 'companies': 1, 'viable': 1, 'fulfilling': 1, 'promises': 1, 'divert': 1, 'landfills': 1, 'comparisons': 1, 'notable': 1, 'brutal': 1, 'regime': 1, 'hundreds': 1, 'people’s': 1, 'remains': 1, 'forensic': 1, 'them—and': 1, 'regain': 1, 'public': 1, 'commission': 1, 'approved': 1, 'infineon': 1, 'technologies': 1, 'dresden': 1, 'official': 1, 'approval': 1, 'ministry': 1, 'affairs': 1, 'action': 1, 'responsib…': 1, 'mapped': 1, 'threedimensional': 1, 'structure': 1, 'exoplanets': 1, 'atmosphere': 1, 'uncovering': 1, 'powerful': 1, 'streams': 1, 'capability': 1, 'europea…': 1, 'france': 1, 'underscores': 1, 'accelerating': 1, 'glacial': 1, 'depleting': 1, 'regional': 1, 'freshwater': 1, 'reserves': 1, 'significantly': 1, 'contributing': 1, 'rising': 1, 'glacier': 1, 'balance': 1, 'inter…': 1, 'unprecedentedly': 1, 'precise': 1, 'observation': 1, 'exoplanet': 1, 'wasp121b': 1, 'combined': 1, 'telescopes': 1, 'telescope': 1, 'sydney': 1, 'australia': 1, 'fengfei': 1, 'frontier': 1, 'center': 1, 'multispheres': 1, 'physical': 1, 'oceanography': 1, 'laboratory': 1, 'university': 1, 'examined': 1, 'longte…': 1, 'uncovered': 1, 'patterns': 1, 'wasp121': 1, 'lightyears': 1, 'planet': 1, 'experiences': 1, 'metals': 1, 'vaporizing': 1, 'scorching': 1, 'dayside': 1, 'condensing': 1, 'liquid': 1, 'supersonic': 1, 'elements': 1, 'transition': 1, 'deepening': 1, 'inequality': 1, 'replicating': 1, 'injustices': 1, 'campaigners': 1, 'colossal': 1, 'biosciences': 1, 'cofounder': 1, 'companys': 1, 'fundraise': 1, 'eyepopping': 1, 'valuation': 1, 'reviving': 1, 'extinct': 1, 'animals': 1, 'saving': 1, 'endangered': 1, 'wired’s': 1, 'advice': 1, 'columnist': 1, 'considers': 1, 'ethical': 1, 'others': 1, 'developers': 1, 'locked': 1, 'bangladesh': 1, 'decades': 1, 'plunged': 1, 'relying': 1, 'expensive': 1, 'imports': 1, 'there’s': 1, 'opportunity': 1, 'direction': 1, 'mansour': 1, 'survived': 1, 'farhud': 1, 'massacre': 1, 'pogrom': 1, 'murdered': 1, 'jewishowned': 1, 'looted': 1, 'undetermined': 1, 'number': 1, 'jewish': 1, 'awarenes…': 1, 'imagine': 1, 'middle': 1, 'workday': 1, 'you’re': 1, 'drowning': 1, 'articles': 1, 'videos': 1, 'reports': 1, 'demanding': 1, 'attention': 1, 'you’ve': 1, 'bookmarked': 1, 'scribbled': 1, 'promised': 1, 'yourself': 1, 'later”': 1, 'honest—how': 1, 'across': 1, 'distressed': 1, 'policy': 1, 'changes': 1, 'elimination': 1, 'firings': 1, 'happened': 1, 'negative': 1, 'impact': 1, 'these…': 1, 'watters': 1, 'callous”': 1, 'implementing': 1, 'laying': 1, 'employees': 1, 'military': 1, 'veteran': 1, 'friend': 1, '“doge’d”': 1, 'musk’s': 1, 'pentagon': 1, 'revealed': 1, 'greaves': 1, 'consumer': 1, 'electricals': 1, 'fiscal': 1, 'innovation': 1, 'consumercentric': 1, 'products': 1, 'expanding': 1, 'segments': 1, 'introducing': 1, 'energyefficient': 1, 'techn…': 1, 'boxabl’s': 1, '120squarefoot': 1, 'minutes': 1, 'offgrid': 1, '“cyberguy': 1, 'knutsson': 1, 'maximize': 1, 'functionality': 1, 'update': 1, 'access': 1, 'closer': 1, 'finish': 1, 'article': 1, 'review’s': 1, 'weekly': 1, 'newsletter': 1, 'receive': 1, 'electricity': 1, 'continue': 1, 'annually': 1, 'according': 1, 'defense': 1, 'christopher': 1, 'costello': 1, 'economist': 1, 'originally': 1, 'published': 1, 'guardian': 1, 'reproduced': 1, 'collaboration': 1, 'environmentalists': 1, 'outraged': 1, 'fasttrack': 1, 'permitting': 1, 'province': 1, 'british': 1, 'columbia': 1, 'cities': 1, 'powerfully': 1, 'shaped': 1, 'racial': 1, 'capitalism': 1, 'exclusion': 1, 'communities': 1, 'fought': 1, 'reclaim': 1, 'futures': 1, 'cooperation': 1, 'converted': 1, 'clarion': 1, 'denvers': 1, 'globeville': 1, 'neighborhood': 1, 'opened': 1, 'august': 1, 'transitional': 1, 'housing': 1, 'dennis': 1, 'schroeder': 1, 'opening': 1, '215unit': 1, 'transit…': 1, 'calgary': 1, 'alberta': 1, 'cenovus': 1, 'energy': 1, 'fourthquarter': 1, 'fullyear': 1, 'operating': 1, 'generated': 1, 'operatin…': 1, 'construction': 1, 'practices': 1, 'driving': 1, 'insulating': 1, 'solutions': 1, 'sustainable…': 1, 'antioch': 1, 'corporation': 1, 'nasdaq': 1, 'reported': 1, 'fourth': 1, 'focused': 1, 'strengths': 1, 'manage': 1, 'difficult': 1, 'market': 1, 'position': 1, 'bitcoin': 1, 'lithium': 1, 'emerging': 1, 'interesting': 1, 'crypto': 1, 'leveraging': 1, 'astounding': 1, 'traction': 1, 'presale': 1, 'parties': 1, 'selling': 1, 'record': 1, 'second': 1, 'resale': 1, 'closed': 1, 'raising': 1, 'unbelie…': 1, 'meeting': 1, 'countries': 1, 'confront': 1, 'reform': 1, 'fairness': 1, 'boycotting': 1, 'africas': 1, 'antiamerican': 1, 'policies': 1, 'anatol': 1, 'lieven': 1, 'challenges': 1, 'democrats': 1, 'process': 1, 'nation': 1, 'doubled': 1, 'capacity': 1, 'subsidies': 1, 'possible': 1, 'support': 1, 'happen': 1}\n"
     ]
    }
   ],
   "source": [
    "def word_count(list):\n",
    "    word_counter = {}\n",
    "    for word in list:\n",
    "        if word in word_counter:\n",
    "            word_counter[word] += 1\n",
    "        else:\n",
    "            word_counter[word] = 1\n",
    "    sorted_word_counter = dict(sorted(word_counter.items(), key=lambda item: item[1], reverse=True))\n",
    "    return sorted_word_counter\n",
    "\n",
    "sorted_word_counter = word_count(filter_word_length)\n",
    "print(sorted_word_counter)"
   ]
  },
  {
   "cell_type": "markdown",
   "metadata": {},
   "source": [
    "Finally, we want to know the ten most abundant words in the news descriptions. We now use the function top_10_words which takes the dictionary as input and returns a new dictionary including only the Top10 words."
   ]
  },
  {
   "cell_type": "code",
   "execution_count": 50,
   "metadata": {},
   "outputs": [
    {
     "name": "stdout",
     "output_type": "stream",
     "text": [
      "{'economic': 5, 'climate': 5, 'through': 4, 'wednesday': 4, 'billion': 4, 'president': 3, 'movement': 3, 'saturday': 3, 'berlin': 3, 'following': 3}\n"
     ]
    }
   ],
   "source": [
    "def top_10_words(dict):\n",
    "    ten_most_common_words = {}\n",
    "    for key, value in dict.items():\n",
    "        if len(ten_most_common_words) < 10:\n",
    "            ten_most_common_words.update({key: value})\n",
    "    return ten_most_common_words\n",
    "\n",
    "ten_most_common_words = top_10_words(sorted_word_counter)\n",
    "print(ten_most_common_words)"
   ]
  },
  {
   "cell_type": "markdown",
   "metadata": {},
   "source": [
    "As a grand final we want to see the ouput of top_10_words in a plot. So we extract key and values from the input dictionary. Due to the lenght of the words we need to rotate the x-axis label."
   ]
  },
  {
   "cell_type": "code",
   "execution_count": null,
   "metadata": {},
   "outputs": [
    {
     "data": {
      "image/png": "[encoded data removed]",
      "text/plain": [
       "<Figure size 640x480 with 1 Axes>"
      ]
     },
     "metadata": {},
     "output_type": "display_data"
    }
   ],
   "source": [
    "def plot_Top10_words(dict):\n",
    "    x_axis = []\n",
    "    y_axis = []\n",
    "    for key, value in dict.items():\n",
    "        x_axis.append(key)\n",
    "        y_axis.append(value)\n",
    "    plt.bar(x_axis, y_axis, color = \"cadetblue\")\n",
    "    plt.xlabel(\"Ten Most Common Words\")\n",
    "    plt.ylabel(\"count\")\n",
    "    plt.title(f\"news analysis with the keyword {query}\")\n",
    "    plt.xticks(rotation=45)\n",
    "    plt.tight_layout()\n",
    "    plt.show()\n",
    "\n",
    "\n",
    "plot_Top10_words(ten_most_common_words)"
   ]
  }
 ],
 "metadata": {
  "kernelspec": {
   "display_name": "Python 3",
   "language": "python",
   "name": "python3"
  },
  "language_info": {
   "codemirror_mode": {
    "name": "ipython",
    "version": 3
   },
   "file_extension": ".py",
   "mimetype": "text/x-python",
   "name": "python",
   "nbconvert_exporter": "python",
   "pygments_lexer": "ipython3",
   "version": "3.13.1"
  }
 },
 "nbformat": 4,
 "nbformat_minor": 2
}
